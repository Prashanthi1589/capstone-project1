{
 "cells": [
  {
   "cell_type": "code",
   "execution_count": 12,
   "id": "7a8ec718-8b91-47f0-a316-7bdefda0ded8",
   "metadata": {},
   "outputs": [],
   "source": [
    "import pandas as pd\n",
    "import numpy as np\n",
    "import pickle\n",
    "from sklearn.impute import SimpleImputer\n",
    "from sklearn.preprocessing import StandardScaler\n",
    "from sklearn.linear_model import LinearRegression"
   ]
  },
  {
   "cell_type": "code",
   "execution_count": 13,
   "id": "2a06944e-1b73-41ae-a812-d0dfa27c991d",
   "metadata": {},
   "outputs": [],
   "source": [
    "# Load the original dataset\n",
    "df_original = pd.read_csv('Downloads/CAR DETAILS 20.csv')"
   ]
  },
  {
   "cell_type": "code",
   "execution_count": 14,
   "id": "409ddf80-3a5d-4fa3-9845-3d03bec26c4a",
   "metadata": {},
   "outputs": [],
   "source": [
    "# Randomly select 20 data points\n",
    "df_sampled = df_original.sample(n=20, random_state=42)"
   ]
  },
  {
   "cell_type": "code",
   "execution_count": 15,
   "id": "1caf69d4-85f8-4e0e-ba85-5dbf219f9b60",
   "metadata": {},
   "outputs": [],
   "source": [
    "# Save the selected sample for future reference\n",
    "df_sampled.to_csv('sampled_20_data_points.csv', index=False)"
   ]
  },
  {
   "cell_type": "code",
   "execution_count": 16,
   "id": "685ef44e-f45c-41a1-a701-3e70c51dd979",
   "metadata": {},
   "outputs": [],
   "source": [
    "# Identify numerical and categorical columns\n",
    "numerical_cols = ['year', 'km_driven']  # Add other numerical columns if present\n",
    "categorical_cols = ['name', 'fuel', 'seller_type', 'transmission', 'owner']"
   ]
  },
  {
   "cell_type": "code",
   "execution_count": 17,
   "id": "9fe193c2-02f1-4c54-815c-24e73a5dc4ee",
   "metadata": {},
   "outputs": [],
   "source": [
    "# Handle missing values for numerical columns\n",
    "imputer = SimpleImputer(strategy='mean')\n",
    "df_sampled[numerical_cols] = imputer.fit_transform(df_sampled[numerical_cols])"
   ]
  },
  {
   "cell_type": "code",
   "execution_count": 18,
   "id": "35fe3c54-72f1-4f7e-b286-c29ebeb206bb",
   "metadata": {},
   "outputs": [],
   "source": [
    "# One-hot encode categorical variables\n",
    "df_sampled = pd.get_dummies(df_sampled, columns=categorical_cols)"
   ]
  },
  {
   "cell_type": "code",
   "execution_count": 19,
   "id": "096be71c-870f-4422-8601-8c71670b598c",
   "metadata": {},
   "outputs": [],
   "source": [
    "# Separate features and target variable\n",
    "features = df_sampled.drop('selling_price', axis=1)\n",
    "target_sampled = df_sampled['selling_price']"
   ]
  },
  {
   "cell_type": "code",
   "execution_count": 20,
   "id": "50336ffb-a009-4c71-822d-c68e59c7d158",
   "metadata": {},
   "outputs": [],
   "source": [
    "# Scale the numerical features\n",
    "scaler = StandardScaler()\n",
    "features[numerical_cols] = scaler.fit_transform(features[numerical_cols])"
   ]
  },
  {
   "cell_type": "code",
   "execution_count": 21,
   "id": "63f1a98c-4115-4685-92f4-63091e2826bd",
   "metadata": {},
   "outputs": [],
   "source": [
    "# Load the saved model from the file\n",
    "with open('best_model.pkl', 'rb') as file:\n",
    "    loaded_model = pickle.load(file)"
   ]
  },
  {
   "cell_type": "code",
   "execution_count": 22,
   "id": "4dd5d7a7-2b40-4357-aa5d-a8dc50a0f93b",
   "metadata": {},
   "outputs": [
    {
     "ename": "NameError",
     "evalue": "name 'df_original_dummies' is not defined",
     "output_type": "error",
     "traceback": [
      "\u001b[1;31m---------------------------------------------------------------------------\u001b[0m",
      "\u001b[1;31mNameError\u001b[0m                                 Traceback (most recent call last)",
      "Cell \u001b[1;32mIn[22], line 2\u001b[0m\n\u001b[0;32m      1\u001b[0m \u001b[38;5;66;03m# Reorder the columns to match the original order\u001b[39;00m\n\u001b[1;32m----> 2\u001b[0m df_sampled \u001b[38;5;241m=\u001b[39m df_sampled[\u001b[43mdf_original_dummies\u001b[49m\u001b[38;5;241m.\u001b[39mcolumns]\n",
      "\u001b[1;31mNameError\u001b[0m: name 'df_original_dummies' is not defined"
     ]
    }
   ],
   "source": [
    "# Reorder the columns to match the original order\n",
    "df_sampled = df_sampled[df_original_dummies.columns]"
   ]
  },
  {
   "cell_type": "code",
   "execution_count": 24,
   "id": "e1fdc804-e6c6-47ff-9fd3-3d7fa5a75ad9",
   "metadata": {},
   "outputs": [],
   "source": [
    "# Load the saved model from the file\n",
    "with open('best_model.pkl', 'rb') as file:\n",
    "    loaded_model = pickle.load(file)"
   ]
  },
  {
   "cell_type": "code",
   "execution_count": 25,
   "id": "be17da61-dc83-4fe4-a247-43b0500de6a6",
   "metadata": {},
   "outputs": [
    {
     "ename": "NameError",
     "evalue": "name 'features_sampled' is not defined",
     "output_type": "error",
     "traceback": [
      "\u001b[1;31m---------------------------------------------------------------------------\u001b[0m",
      "\u001b[1;31mNameError\u001b[0m                                 Traceback (most recent call last)",
      "Cell \u001b[1;32mIn[25], line 2\u001b[0m\n\u001b[0;32m      1\u001b[0m \u001b[38;5;66;03m# Use the loaded model to make predictions on the sampled data\u001b[39;00m\n\u001b[1;32m----> 2\u001b[0m y_pred_sampled \u001b[38;5;241m=\u001b[39m loaded_model\u001b[38;5;241m.\u001b[39mpredict(\u001b[43mfeatures_sampled\u001b[49m)\n",
      "\u001b[1;31mNameError\u001b[0m: name 'features_sampled' is not defined"
     ]
    }
   ],
   "source": [
    "# Use the loaded model to make predictions on the sampled data\n",
    "y_pred_sampled = loaded_model.predict(features_sampled)\n"
   ]
  },
  {
   "cell_type": "code",
   "execution_count": 26,
   "id": "00b2c53d-34b3-4973-b83b-1c0923f95d62",
   "metadata": {},
   "outputs": [],
   "source": [
    "# Evaluate the model on the sampled data\n",
    "from sklearn.metrics import mean_squared_error, r2_score"
   ]
  },
  {
   "cell_type": "code",
   "execution_count": 27,
   "id": "8bee3b23-d11f-4cd4-8f1e-ce324a9025a4",
   "metadata": {},
   "outputs": [
    {
     "ename": "NameError",
     "evalue": "name 'y_pred_sampled' is not defined",
     "output_type": "error",
     "traceback": [
      "\u001b[1;31m---------------------------------------------------------------------------\u001b[0m",
      "\u001b[1;31mNameError\u001b[0m                                 Traceback (most recent call last)",
      "Cell \u001b[1;32mIn[27], line 1\u001b[0m\n\u001b[1;32m----> 1\u001b[0m mse_sampled \u001b[38;5;241m=\u001b[39m mean_squared_error(target_sampled, \u001b[43my_pred_sampled\u001b[49m)\n\u001b[0;32m      2\u001b[0m r2_sampled \u001b[38;5;241m=\u001b[39m r2_score(target_sampled, y_pred_sampled)\n\u001b[0;32m      4\u001b[0m \u001b[38;5;28mprint\u001b[39m(\u001b[38;5;124mf\u001b[39m\u001b[38;5;124m'\u001b[39m\u001b[38;5;124mMSE on sampled data: \u001b[39m\u001b[38;5;132;01m{\u001b[39;00mmse_sampled\u001b[38;5;132;01m}\u001b[39;00m\u001b[38;5;124m'\u001b[39m)\n",
      "\u001b[1;31mNameError\u001b[0m: name 'y_pred_sampled' is not defined"
     ]
    }
   ],
   "source": [
    "mse_sampled = mean_squared_error(target_sampled, y_pred_sampled)\n",
    "r2_sampled = r2_score(target_sampled, y_pred_sampled)\n",
    "\n",
    "print(f'MSE on sampled data: {mse_sampled}')\n",
    "print(f'R2 on sampled data: {r2_sampled}')"
   ]
  },
  {
   "cell_type": "code",
   "execution_count": null,
   "id": "3335138f-020c-445d-9c4d-abd8e36d1eed",
   "metadata": {},
   "outputs": [],
   "source": []
  }
 ],
 "metadata": {
  "kernelspec": {
   "display_name": "Python 3 (ipykernel)",
   "language": "python",
   "name": "python3"
  },
  "language_info": {
   "codemirror_mode": {
    "name": "ipython",
    "version": 3
   },
   "file_extension": ".py",
   "mimetype": "text/x-python",
   "name": "python",
   "nbconvert_exporter": "python",
   "pygments_lexer": "ipython3",
   "version": "3.12.3"
  }
 },
 "nbformat": 4,
 "nbformat_minor": 5
}
