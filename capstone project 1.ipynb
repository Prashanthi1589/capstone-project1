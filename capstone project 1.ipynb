{
 "cells": [
  {
   "cell_type": "code",
   "execution_count": 1,
   "id": "48ce14ba-0afc-4fb3-950e-5f057d446d69",
   "metadata": {},
   "outputs": [],
   "source": [
    "import pandas as pd\n",
    "from sklearn.linear_model import LinearRegression\n",
    "from sklearn.tree import DecisionTreeRegressor\n",
    "from sklearn.ensemble import RandomForestRegressor, GradientBoostingRegressor\n",
    "from sklearn.metrics import mean_squared_error, r2_score\n",
    "from sklearn.model_selection import train_test_split\n",
    "from sklearn.impute import SimpleImputer\n",
    "from sklearn.preprocessing import StandardScaler"
   ]
  },
  {
   "cell_type": "code",
   "execution_count": 2,
   "id": "3dfa2e05-7534-4512-a790-e9f5f21da9cd",
   "metadata": {},
   "outputs": [],
   "source": [
    "# Load the dataset\n",
    "df = pd.read_csv('Downloads/CAR DETAILS.csv')"
   ]
  },
  {
   "cell_type": "code",
   "execution_count": 3,
   "id": "d8f37aa5-016f-44b6-9dc7-659ba8ed961e",
   "metadata": {},
   "outputs": [],
   "source": [
    "# Identify numerical and categorical columns\n",
    "numerical_cols = ['year', 'km_driven']  # Add other numerical columns if present\n",
    "categorical_cols = ['name', 'fuel', 'seller_type', 'transmission', 'owner']"
   ]
  },
  {
   "cell_type": "code",
   "execution_count": 4,
   "id": "44d11b47-2d3b-4676-90d0-19e1d9d1154e",
   "metadata": {},
   "outputs": [],
   "source": [
    "# Handle missing values for numerical columns\n",
    "imputer = SimpleImputer(strategy='mean')\n",
    "df[numerical_cols] = imputer.fit_transform(df[numerical_cols])"
   ]
  },
  {
   "cell_type": "code",
   "execution_count": 5,
   "id": "7ac56bd0-1b75-459d-a075-15d712bd9eb4",
   "metadata": {},
   "outputs": [],
   "source": [
    "# One-hot encode categorical variables\n",
    "df = pd.get_dummies(df, columns=categorical_cols)"
   ]
  },
  {
   "cell_type": "code",
   "execution_count": 6,
   "id": "c7ce0979-ef11-48c8-b5d8-9e0cdc237b41",
   "metadata": {},
   "outputs": [],
   "source": [
    "# Separate features and target variable\n",
    "features = df.drop('selling_price', axis=1)\n",
    "target = df['selling_price']"
   ]
  },
  {
   "cell_type": "code",
   "execution_count": 7,
   "id": "873c00c7-3f07-42d9-bc39-d4625142bb7f",
   "metadata": {},
   "outputs": [],
   "source": [
    "# Scale the numerical features\n",
    "scaler = StandardScaler()\n",
    "features[numerical_cols] = scaler.fit_transform(features[numerical_cols])"
   ]
  },
  {
   "cell_type": "code",
   "execution_count": 8,
   "id": "747d5e2b-5219-4067-99ca-81f2560df99f",
   "metadata": {},
   "outputs": [],
   "source": [
    "# Split the data into training and testing sets\n",
    "X_train, X_test, y_train, y_test = train_test_split(features, target, test_size=0.2, random_state=42)"
   ]
  },
  {
   "cell_type": "code",
   "execution_count": 9,
   "id": "1a5fce40-fa9a-432c-a592-4e4f51826277",
   "metadata": {},
   "outputs": [],
   "source": [
    "# Linear Regression\n",
    "lr_model = LinearRegression()\n",
    "lr_model.fit(X_train, y_train)\n",
    "y_pred_lr = lr_model.predict(X_test)\n",
    "mse_lr = mean_squared_error(y_test, y_pred_lr)\n",
    "r2_lr = r2_score(y_test, y_pred_lr)"
   ]
  },
  {
   "cell_type": "code",
   "execution_count": 10,
   "id": "d8dd0b5d-691c-41d4-b8af-c919feb38ceb",
   "metadata": {},
   "outputs": [],
   "source": [
    "# Decision Tree Regressor\n",
    "dt_model = DecisionTreeRegressor(random_state=42)\n",
    "dt_model.fit(X_train, y_train)\n",
    "y_pred_dt = dt_model.predict(X_test)\n",
    "mse_dt = mean_squared_error(y_test, y_pred_dt)\n",
    "r2_dt = r2_score(y_test, y_pred_dt)"
   ]
  },
  {
   "cell_type": "code",
   "execution_count": 11,
   "id": "625ad92e-2a77-423e-aeb0-91c2d612389e",
   "metadata": {},
   "outputs": [],
   "source": [
    "# Random Forest Regressor\n",
    "rf_model = RandomForestRegressor(random_state=42, n_estimators=100)\n",
    "rf_model.fit(X_train, y_train)\n",
    "y_pred_rf = rf_model.predict(X_test)\n",
    "mse_rf = mean_squared_error(y_test, y_pred_rf)\n",
    "r2_rf = r2_score(y_test, y_pred_rf)"
   ]
  },
  {
   "cell_type": "code",
   "execution_count": 23,
   "id": "e01cac5b-46dc-40d5-b1ae-10c0bd274e6f",
   "metadata": {},
   "outputs": [],
   "source": [
    "# Gradient Boosting Regressor\n",
    "gb_model = GradientBoostingRegressor(random_state=42, n_estimators=100)\n",
    "gb_model.fit(X_train, y_train)\n",
    "y_pred_gb = gb_model.predict(X_test)\n",
    "mse_gb = mean_squared_error(y_test, y_pred_gb)\n",
    "r2_gb = r2_score(y_test, y_pred_gb)"
   ]
  },
  {
   "cell_type": "code",
   "execution_count": 24,
   "id": "83958ce3-b8b0-49fe-adc2-e1951429919e",
   "metadata": {},
   "outputs": [
    {
     "name": "stdout",
     "output_type": "stream",
     "text": [
      "Linear Regression MSE: 16404871.906838669, R2: 0.9964276563387626\n",
      "Decision Tree MSE: 10000000000.0, R2: -1.1776114324600204\n",
      "Random Forest MSE: 2154685000.0, R2: 0.5307933310649882\n",
      "Gradient Boosting MSE: 692120.0283443156, R2: 0.9998492831513642\n"
     ]
    }
   ],
   "source": [
    "# Print evaluation metrics for all models\n",
    "print(f'Linear Regression MSE: {mse_lr}, R2: {r2_lr}')\n",
    "print(f'Decision Tree MSE: {mse_dt}, R2: {r2_dt}')\n",
    "print(f'Random Forest MSE: {mse_rf}, R2: {r2_rf}')\n",
    "print(f'Gradient Boosting MSE: {mse_gb}, R2: {r2_gb}')"
   ]
  },
  {
   "cell_type": "code",
   "execution_count": 25,
   "id": "98372144-5e32-4c41-83ef-58c56f1a0847",
   "metadata": {},
   "outputs": [],
   "source": [
    "# Find the best model\n",
    "model_performance = {\n",
    "    'Linear Regression': {'MSE': mse_lr, 'R2': r2_lr},\n",
    "    'Decision Tree': {'MSE': mse_dt, 'R2': r2_dt},\n",
    "    'Random Forest': {'MSE': mse_rf, 'R2': r2_rf},\n",
    "    'Gradient Boosting': {'MSE': mse_gb, 'R2': r2_gb}\n",
    "}"
   ]
  },
  {
   "cell_type": "code",
   "execution_count": 26,
   "id": "8ad79046-43d5-44e3-9dc7-75872f47407a",
   "metadata": {},
   "outputs": [
    {
     "name": "stdout",
     "output_type": "stream",
     "text": [
      "The best model is Gradient Boosting with MSE: 692120.0283443156 and R2: 0.9998492831513642\n"
     ]
    }
   ],
   "source": [
    "best_model = min(model_performance, key=lambda x: model_performance[x]['MSE'])\n",
    "print(f'The best model is {best_model} with MSE: {model_performance[best_model][\"MSE\"]} and R2: {model_performance[best_model][\"R2\"]}')"
   ]
  },
  {
   "cell_type": "code",
   "execution_count": 27,
   "id": "7eeab609-b524-41a6-a62f-a31610530426",
   "metadata": {},
   "outputs": [],
   "source": [
    "best_model_name = best_model  # Name of the best model\n",
    "best_model_instance = None\n",
    "\n",
    "if best_model_name == 'Linear Regression':\n",
    "    best_model_instance = lr_model\n",
    "elif best_model_name == 'Decision Tree':\n",
    "    best_model_instance = dt_model\n",
    "elif best_model_name == 'Random Forest':\n",
    "    best_model_instance = rf_model\n",
    "elif best_model_name == 'Gradient Boosting':\n",
    "    best_model_instance = gb_model"
   ]
  },
  {
   "cell_type": "code",
   "execution_count": 28,
   "id": "e34ce4d9-8cfc-4e47-b3a6-1d14e74a0faf",
   "metadata": {},
   "outputs": [
    {
     "name": "stdout",
     "output_type": "stream",
     "text": [
      "Gradient Boosting model saved as best_model.pkl\n"
     ]
    }
   ],
   "source": [
    "import pickle\n",
    "# Save the best model to a file\n",
    "with open('best_model.pkl', 'wb') as file:\n",
    "    pickle.dump(best_model_instance, file)\n",
    "\n",
    "print(f'{best_model_name} model saved as best_model.pkl')"
   ]
  },
  {
   "cell_type": "code",
   "execution_count": 29,
   "id": "e76ea7b4-1bf7-433e-b17b-74fe81f686d3",
   "metadata": {},
   "outputs": [
    {
     "name": "stdout",
     "output_type": "stream",
     "text": [
      "Gradient Boosting model loaded from best_model.pkl\n"
     ]
    }
   ],
   "source": [
    "# Load the saved model from the file\n",
    "with open('best_model.pkl', 'rb') as file:\n",
    "    loaded_model = pickle.load(file)\n",
    "\n",
    "print(f'{best_model_name} model loaded from best_model.pkl')"
   ]
  },
  {
   "cell_type": "code",
   "execution_count": 30,
   "id": "fbb4988a-376c-4051-a6a7-49fb0901cfc8",
   "metadata": {},
   "outputs": [],
   "source": [
    "# Use the loaded model to make predictions\n",
    "# Example prediction on test data\n",
    "y_pred_loaded = loaded_model.predict(X_test)"
   ]
  },
  {
   "cell_type": "code",
   "execution_count": 31,
   "id": "159630fc-1651-4971-ba4f-ee11fe196d60",
   "metadata": {},
   "outputs": [],
   "source": [
    "# Evaluate the loaded model\n",
    "mse_loaded = mean_squared_error(y_test, y_pred_loaded)\n",
    "r2_loaded = r2_score(y_test, y_pred_loaded)"
   ]
  },
  {
   "cell_type": "code",
   "execution_count": 32,
   "id": "fa5d9d05-395d-4950-bd7c-c243ea1eaeff",
   "metadata": {},
   "outputs": [
    {
     "name": "stdout",
     "output_type": "stream",
     "text": [
      "Loaded Gradient Boosting MSE: 692120.0283443156\n",
      "Loaded Gradient Boosting R2: 0.9998492831513642\n"
     ]
    }
   ],
   "source": [
    "print(f'Loaded {best_model_name} MSE: {mse_loaded}')\n",
    "print(f'Loaded {best_model_name} R2: {r2_loaded}')"
   ]
  },
  {
   "cell_type": "code",
   "execution_count": 33,
   "id": "1243fee4-9266-4c9f-a731-dad44fa690ac",
   "metadata": {},
   "outputs": [
    {
     "ename": "NameError",
     "evalue": "name 'target_sampled' is not defined",
     "output_type": "error",
     "traceback": [
      "\u001b[1;31m---------------------------------------------------------------------------\u001b[0m",
      "\u001b[1;31mNameError\u001b[0m                                 Traceback (most recent call last)",
      "Cell \u001b[1;32mIn[33], line 4\u001b[0m\n\u001b[0;32m      1\u001b[0m \u001b[38;5;66;03m# Evaluate the model on the sampled data\u001b[39;00m\n\u001b[0;32m      2\u001b[0m \u001b[38;5;28;01mfrom\u001b[39;00m \u001b[38;5;21;01msklearn\u001b[39;00m\u001b[38;5;21;01m.\u001b[39;00m\u001b[38;5;21;01mmetrics\u001b[39;00m \u001b[38;5;28;01mimport\u001b[39;00m mean_squared_error, r2_score\n\u001b[1;32m----> 4\u001b[0m mse_sampled \u001b[38;5;241m=\u001b[39m mean_squared_error(\u001b[43mtarget_sampled\u001b[49m, y_pred_sampled)\n\u001b[0;32m      5\u001b[0m r2_sampled \u001b[38;5;241m=\u001b[39m r2_score(target_sampled, y_pred_sampled)\n\u001b[0;32m      7\u001b[0m \u001b[38;5;28mprint\u001b[39m(\u001b[38;5;124mf\u001b[39m\u001b[38;5;124m'\u001b[39m\u001b[38;5;124mMSE on sampled data: \u001b[39m\u001b[38;5;132;01m{\u001b[39;00mmse_sampled\u001b[38;5;132;01m}\u001b[39;00m\u001b[38;5;124m'\u001b[39m)\n",
      "\u001b[1;31mNameError\u001b[0m: name 'target_sampled' is not defined"
     ]
    }
   ],
   "source": [
    "# Evaluate the model on the sampled data\n",
    "from sklearn.metrics import mean_squared_error, r2_score\n",
    "\n",
    "mse_sampled = mean_squared_error(target_sampled, y_pred_sampled)\n",
    "r2_sampled = r2_score(target_sampled, y_pred_sampled)\n",
    "\n",
    "print(f'MSE on sampled data: {mse_sampled}')\n",
    "print(f'R2 on sampled data: {r2_sampled}')"
   ]
  },
  {
   "cell_type": "code",
   "execution_count": 34,
   "id": "948f303d-77da-494e-b9f4-164c67f0f966",
   "metadata": {},
   "outputs": [],
   "source": [
    "import streamlit as st\n",
    "import joblib"
   ]
  },
  {
   "cell_type": "code",
   "execution_count": 36,
   "id": "f66122c4-d92a-4f54-b61f-72e487384625",
   "metadata": {},
   "outputs": [],
   "source": [
    "# Load the model\n",
    "model = joblib.load(\"best_model.pkl\")"
   ]
  },
  {
   "cell_type": "code",
   "execution_count": 37,
   "id": "5763ae0f-924e-472c-bf42-5b98af821c05",
   "metadata": {},
   "outputs": [
    {
     "ename": "SyntaxError",
     "evalue": "invalid syntax (595297795.py, line 1)",
     "output_type": "error",
     "traceback": [
      "\u001b[1;36m  Cell \u001b[1;32mIn[37], line 1\u001b[1;36m\u001b[0m\n\u001b[1;33m    streamlit run Data-Science-Capstone-Project.py\u001b[0m\n\u001b[1;37m              ^\u001b[0m\n\u001b[1;31mSyntaxError\u001b[0m\u001b[1;31m:\u001b[0m invalid syntax\n"
     ]
    }
   ],
   "source": [
    "streamlit run Data-Science-Capstone-Project.py"
   ]
  },
  {
   "cell_type": "code",
   "execution_count": null,
   "id": "63401f46-48f5-4601-b331-d75c58e2f1d4",
   "metadata": {},
   "outputs": [],
   "source": []
  }
 ],
 "metadata": {
  "kernelspec": {
   "display_name": "Python 3 (ipykernel)",
   "language": "python",
   "name": "python3"
  },
  "language_info": {
   "codemirror_mode": {
    "name": "ipython",
    "version": 3
   },
   "file_extension": ".py",
   "mimetype": "text/x-python",
   "name": "python",
   "nbconvert_exporter": "python",
   "pygments_lexer": "ipython3",
   "version": "3.12.3"
  }
 },
 "nbformat": 4,
 "nbformat_minor": 5
}
